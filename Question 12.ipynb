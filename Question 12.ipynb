{
 "cells": [
  {
   "cell_type": "code",
   "execution_count": 5,
   "id": "be99668e",
   "metadata": {
    "scrolled": true
   },
   "outputs": [
    {
     "name": "stdout",
     "output_type": "stream",
     "text": [
      "Sample Ages: [50, 23, 22, 20, 19, 34, 10, 18, 30, 24]\n",
      "29.566666666666666\n"
     ]
    }
   ],
   "source": [
    "import numpy as np\n",
    "import random\n",
    "\n",
    "# Create a list of ages for 30 people\n",
    "data = [10, 20, 30, 35, 40, 45, 50, 55, 18, 28, 30, 43, 18, 30, 28, 14, 24, 16, 37, 31, 35, 26, 20, 19, 34, 55, 23, 22, 21, 30]\n",
    "\n",
    "# Take a sample of 10 ages\n",
    "sample_ages = random.sample(data, 10)\n",
    "\n",
    "# Display the sample ages\n",
    "print(\"Sample Ages:\", sample_ages)\n",
    "\n",
    "np.mean(data)\n",
    "print(mean)\n"
   ]
  },
  {
   "cell_type": "code",
   "execution_count": 30,
   "id": "898ffe0b",
   "metadata": {},
   "outputs": [
    {
     "name": "stdout",
     "output_type": "stream",
     "text": [
      "The population mean does not differ from the sample mean.\n"
     ]
    }
   ],
   "source": [
    "from scipy.stats import ttest_1samp\n",
    "\n",
    "# Assuming the population mean is 30 (replace with the actual population mean)\n",
    "population_mean = 30\n",
    "\n",
    "\n",
    "\n",
    "# Check if the p-value is less than the significance level (e.g., 0.05)\n",
    "confidence_level = 0.95\n",
    "alpha = 1 - confidence_level\n",
    "\n",
    "if p_value < alpha:\n",
    "    print(\"The population mean differs from the sample mean.\")\n",
    "else:\n",
    "    print(\"The population mean does not differ from the sample mean.\")\n"
   ]
  },
  {
   "cell_type": "code",
   "execution_count": 1,
   "id": "13d81833",
   "metadata": {},
   "outputs": [
    {
     "ename": "NameError",
     "evalue": "name 'ttest_1samp' is not defined",
     "output_type": "error",
     "traceback": [
      "\u001b[1;31m---------------------------------------------------------------------------\u001b[0m",
      "\u001b[1;31mNameError\u001b[0m                                 Traceback (most recent call last)",
      "Cell \u001b[1;32mIn[1], line 1\u001b[0m\n\u001b[1;32m----> 1\u001b[0m help(ttest_1samp)\n",
      "\u001b[1;31mNameError\u001b[0m: name 'ttest_1samp' is not defined"
     ]
    }
   ],
   "source": [
    "help(ttest_1samp)"
   ]
  },
  {
   "cell_type": "code",
   "execution_count": null,
   "id": "97d197d9",
   "metadata": {},
   "outputs": [],
   "source": []
  }
 ],
 "metadata": {
  "kernelspec": {
   "display_name": "Python 3 (ipykernel)",
   "language": "python",
   "name": "python3"
  },
  "language_info": {
   "codemirror_mode": {
    "name": "ipython",
    "version": 3
   },
   "file_extension": ".py",
   "mimetype": "text/x-python",
   "name": "python",
   "nbconvert_exporter": "python",
   "pygments_lexer": "ipython3",
   "version": "3.11.3"
  }
 },
 "nbformat": 4,
 "nbformat_minor": 5
}
