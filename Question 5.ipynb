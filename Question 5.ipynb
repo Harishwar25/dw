{
 "cells": [
  {
   "cell_type": "code",
   "execution_count": 5,
   "id": "13261e27",
   "metadata": {},
   "outputs": [
    {
     "name": "stdout",
     "output_type": "stream",
     "text": [
      "probability of getting 3 is: 0.16666666666666666\n"
     ]
    }
   ],
   "source": [
    "#Q5\n",
    "#1 calculate the probability of getting 3 when a dice rolled\n",
    "\n",
    "# probability of getting 3 when a die is rolled\n",
    "ns = 6 #n(S) = {1,2,3,4,5,6}\n",
    "na = 1 #n(A) = {3}\n",
    "pa = na/ns # P(A)\n",
    "print(\"probability of getting 3 is:\",pa)"
   ]
  },
  {
   "cell_type": "code",
   "execution_count": 6,
   "id": "9e7ee5f5",
   "metadata": {},
   "outputs": [
    {
     "name": "stdout",
     "output_type": "stream",
     "text": [
      "Probability of getting at least one head: 0.875\n"
     ]
    }
   ],
   "source": [
    "# probability of getting at least one head when a coin is tossed thrice\n",
    "total_outcomes = 2 ** 3  # Total possible outcomes for three coin tosses (2 outcomes for each toss)\n",
    "no_head_outcomes = 1  # Only one outcome (TTT) results in no heads\n",
    "\n",
    "probability_at_least_one_head = 1 - (no_head_outcomes / total_outcomes)\n",
    "print(\"Probability of getting at least one head:\", probability_at_least_one_head)\n"
   ]
  },
  {
   "cell_type": "code",
   "execution_count": 7,
   "id": "f57a6129",
   "metadata": {},
   "outputs": [
    {
     "name": "stdout",
     "output_type": "stream",
     "text": [
      "Probability of choosing a jelly bean that is not blue: 0.7\n"
     ]
    }
   ],
   "source": [
    "##3 a glass jar contain 5 red 3 blue & 2 green jelly bean if a jelly bean is chosen at random from the jar\n",
    "#what is probability that is is not blue\n",
    "\n",
    "ns = 10 #n(S) = {5red,3blue,2green}\n",
    "na = 7 #n(A) = {5red, 2green}\n",
    "pa = na/ns # P(A)\n",
    "print(\"probability of getting not blue jellybean is:\",pa)"
   ]
  },
  {
   "cell_type": "code",
   "execution_count": 10,
   "id": "9d424a05",
   "metadata": {},
   "outputs": [
    {
     "name": "stdout",
     "output_type": "stream",
     "text": [
      "Probability of getting 4 or 5 on the first toss: 0.3333333333333333\n",
      "Probability of getting 1, 2, or 3 on the second toss: 0.5\n",
      "Probability of both events happening: 0.16666666666666666\n"
     ]
    }
   ],
   "source": [
    "##4 #4 a fair die is tossed twice , find the probability  of getting 4 or 5 on the first toss and probability of getting 1 2 or 3\n",
    "#on the second toss\n",
    "\n",
    "#Probability of getting 4 or 5 on the first toss\n",
    "probability_A = 2 / 6  # There are 2 favorable outcomes (4 or 5) out of 6 possible outcomes\n",
    "\n",
    "# Probability of getting 1, 2, or 3 on the second toss\n",
    "probability_B = 3 / 6  # There are 3 favorable outcomes (1, 2, or 3) out of 6 possible outcomes\n",
    "\n",
    "# Probability of both events A and B happening\n",
    "probability_A_and_B = probability_A * probability_B\n",
    "\n",
    "print(\"Probability of getting 4 or 5 on the first toss:\", probability_A)\n",
    "print(\"Probability of getting 1, 2, or 3 on the second toss:\", probability_B)\n",
    "print(\"Probability of both events happening:\", probability_A_and_B)\n"
   ]
  },
  {
   "cell_type": "code",
   "execution_count": 15,
   "id": "9b6f0deb",
   "metadata": {},
   "outputs": [
    {
     "name": "stdout",
     "output_type": "stream",
     "text": [
      "Probability of drawing a heart or a club: 0.5\n"
     ]
    }
   ],
   "source": [
    "# Total number of cards in a standard deck\n",
    "total_cards = 52\n",
    "\n",
    "# Number of hearts in the deck\n",
    "hearts = 13\n",
    "\n",
    "# Number of clubs in the deck\n",
    "clubs = 13\n",
    "\n",
    "# Number of cards that are both hearts and clubs (the intersection)\n",
    "hearts_and_clubs = 0  # There are no cards that are both hearts and clubs\n",
    "\n",
    "# Probability of drawing a heart or a club\n",
    "probability_heart_or_club = (hearts / total_cards) + (clubs / total_cards) - (hearts_and_clubs / total_cards)\n",
    "\n",
    "print(\"Probability of drawing a heart or a club:\", probability_heart_or_club)\n"
   ]
  },
  {
   "cell_type": "code",
   "execution_count": 16,
   "id": "8e802e7d",
   "metadata": {},
   "outputs": [
    {
     "name": "stdout",
     "output_type": "stream",
     "text": [
      "Probability of drawing an ace, king, or queen: 0.23076923076923078\n"
     ]
    }
   ],
   "source": [
    "# Total number of cards in a standard deck\n",
    "total_cards = 52\n",
    "\n",
    "# Number of aces in the deck\n",
    "aces = 4\n",
    "\n",
    "# Number of kings in the deck\n",
    "kings = 4\n",
    "\n",
    "# Number of queens in the deck\n",
    "queens = 4\n",
    "\n",
    "# Probability of drawing an ace, king, or queen\n",
    "probability_ace_or_king_or_queen = (aces / total_cards) + (kings / total_cards) + (queens / total_cards)\n",
    "\n",
    "print(\"Probability of drawing an ace, king, or queen:\", probability_ace_or_king_or_queen)\n"
   ]
  },
  {
   "cell_type": "code",
   "execution_count": 17,
   "id": "38c4c050",
   "metadata": {},
   "outputs": [
    {
     "name": "stdout",
     "output_type": "stream",
     "text": [
      "Probability of drawing a heart or an ace: 0.3269230769230769\n"
     ]
    }
   ],
   "source": [
    "# Total number of cards in a standard deck\n",
    "total_cards = 52\n",
    "\n",
    "# Number of hearts in the deck\n",
    "hearts = 13\n",
    "\n",
    "# Number of aces in the deck\n",
    "aces = 4\n",
    "\n",
    "# Probability of drawing a heart or an ace\n",
    "probability_heart_or_ace = (hearts / total_cards) + (aces / total_cards)\n",
    "\n",
    "print(\"Probability of drawing a heart or an ace:\", probability_heart_or_ace)\n"
   ]
  },
  {
   "cell_type": "code",
   "execution_count": 18,
   "id": "3a05b017",
   "metadata": {},
   "outputs": [
    {
     "name": "stdout",
     "output_type": "stream",
     "text": [
      "Probability of drawing a red card or a face card: 0.6153846153846154\n"
     ]
    }
   ],
   "source": [
    "# Total number of cards in a standard deck\n",
    "total_cards = 52\n",
    "\n",
    "# Number of red cards in the deck\n",
    "red_cards = 26  # There are two red suits, each with 13 cards\n",
    "\n",
    "# Number of face cards in the deck\n",
    "face_cards = 12  # There are three face cards (jack, queen, king) in each suit\n",
    "\n",
    "# Number of red face cards in the deck\n",
    "red_face_cards = 6  # There are two red suits, each with three face cards\n",
    "\n",
    "# Probability of drawing a red card or a face card\n",
    "probability_red_or_face = (red_cards / total_cards) + (face_cards / total_cards) - (red_face_cards / total_cards)\n",
    "\n",
    "print(\"Probability of drawing a red card or a face card:\", probability_red_or_face)\n"
   ]
  },
  {
   "cell_type": "code",
   "execution_count": 19,
   "id": "e5914565",
   "metadata": {},
   "outputs": [
    {
     "name": "stdout",
     "output_type": "stream",
     "text": [
      "probabilty of not getting 5 is: 0.8333333333333334\n"
     ]
    }
   ],
   "source": [
    "#10 probabiltiy of not getting 5 when a fair die is rolled\n",
    "ns = 6 #n(S) = {1,2,3,4,5,6}\n",
    "na = 1 #n(A) = {5}\n",
    "pa = na/ns # P(A)\n",
    "print(\"probabilty of not getting 5 is:\",1-pa)"
   ]
  },
  {
   "cell_type": "code",
   "execution_count": 8,
   "id": "046f1895",
   "metadata": {},
   "outputs": [
    {
     "name": "stdout",
     "output_type": "stream",
     "text": [
      "Index(['school,sex,age,address,famsize,Pstatus,Medu,Fedu,Mjob,Fjob,reason,guardian,traveltime,studytime,failures,schoolsup,famsup,paid,activities,nursery,higher,internet,romantic,famrel,freetime,goout,Dalc,Walc,health,absences,G1,G2,G3'], dtype='object')\n"
     ]
    },
    {
     "ename": "KeyError",
     "evalue": "\"None of [Index(['G3', 'absences'], dtype='object')] are in the [columns]\"",
     "output_type": "error",
     "traceback": [
      "\u001b[1;31m---------------------------------------------------------------------------\u001b[0m",
      "\u001b[1;31mKeyError\u001b[0m                                  Traceback (most recent call last)",
      "Cell \u001b[1;32mIn[8], line 10\u001b[0m\n\u001b[0;32m      7\u001b[0m \u001b[38;5;28mprint\u001b[39m(data\u001b[38;5;241m.\u001b[39mcolumns)\n\u001b[0;32m      9\u001b[0m \u001b[38;5;66;03m# Select relevant columns\u001b[39;00m\n\u001b[1;32m---> 10\u001b[0m selected_data \u001b[38;5;241m=\u001b[39m data[[\u001b[38;5;124m'\u001b[39m\u001b[38;5;124mG3\u001b[39m\u001b[38;5;124m'\u001b[39m, \u001b[38;5;124m'\u001b[39m\u001b[38;5;124mabsences\u001b[39m\u001b[38;5;124m'\u001b[39m]]\n\u001b[0;32m     12\u001b[0m \u001b[38;5;66;03m# Specify grade and absences values for conditional probability calculation\u001b[39;00m\n\u001b[0;32m     13\u001b[0m grade_value \u001b[38;5;241m=\u001b[39m \u001b[38;5;241m10\u001b[39m  \u001b[38;5;66;03m# Change this to the desired grade value\u001b[39;00m\n",
      "File \u001b[1;32m~\\anaconda3\\Lib\\site-packages\\pandas\\core\\frame.py:3813\u001b[0m, in \u001b[0;36mDataFrame.__getitem__\u001b[1;34m(self, key)\u001b[0m\n\u001b[0;32m   3811\u001b[0m     \u001b[38;5;28;01mif\u001b[39;00m is_iterator(key):\n\u001b[0;32m   3812\u001b[0m         key \u001b[38;5;241m=\u001b[39m \u001b[38;5;28mlist\u001b[39m(key)\n\u001b[1;32m-> 3813\u001b[0m     indexer \u001b[38;5;241m=\u001b[39m \u001b[38;5;28mself\u001b[39m\u001b[38;5;241m.\u001b[39mcolumns\u001b[38;5;241m.\u001b[39m_get_indexer_strict(key, \u001b[38;5;124m\"\u001b[39m\u001b[38;5;124mcolumns\u001b[39m\u001b[38;5;124m\"\u001b[39m)[\u001b[38;5;241m1\u001b[39m]\n\u001b[0;32m   3815\u001b[0m \u001b[38;5;66;03m# take() does not accept boolean indexers\u001b[39;00m\n\u001b[0;32m   3816\u001b[0m \u001b[38;5;28;01mif\u001b[39;00m \u001b[38;5;28mgetattr\u001b[39m(indexer, \u001b[38;5;124m\"\u001b[39m\u001b[38;5;124mdtype\u001b[39m\u001b[38;5;124m\"\u001b[39m, \u001b[38;5;28;01mNone\u001b[39;00m) \u001b[38;5;241m==\u001b[39m \u001b[38;5;28mbool\u001b[39m:\n",
      "File \u001b[1;32m~\\anaconda3\\Lib\\site-packages\\pandas\\core\\indexes\\base.py:6070\u001b[0m, in \u001b[0;36mIndex._get_indexer_strict\u001b[1;34m(self, key, axis_name)\u001b[0m\n\u001b[0;32m   6067\u001b[0m \u001b[38;5;28;01melse\u001b[39;00m:\n\u001b[0;32m   6068\u001b[0m     keyarr, indexer, new_indexer \u001b[38;5;241m=\u001b[39m \u001b[38;5;28mself\u001b[39m\u001b[38;5;241m.\u001b[39m_reindex_non_unique(keyarr)\n\u001b[1;32m-> 6070\u001b[0m \u001b[38;5;28mself\u001b[39m\u001b[38;5;241m.\u001b[39m_raise_if_missing(keyarr, indexer, axis_name)\n\u001b[0;32m   6072\u001b[0m keyarr \u001b[38;5;241m=\u001b[39m \u001b[38;5;28mself\u001b[39m\u001b[38;5;241m.\u001b[39mtake(indexer)\n\u001b[0;32m   6073\u001b[0m \u001b[38;5;28;01mif\u001b[39;00m \u001b[38;5;28misinstance\u001b[39m(key, Index):\n\u001b[0;32m   6074\u001b[0m     \u001b[38;5;66;03m# GH 42790 - Preserve name from an Index\u001b[39;00m\n",
      "File \u001b[1;32m~\\anaconda3\\Lib\\site-packages\\pandas\\core\\indexes\\base.py:6130\u001b[0m, in \u001b[0;36mIndex._raise_if_missing\u001b[1;34m(self, key, indexer, axis_name)\u001b[0m\n\u001b[0;32m   6128\u001b[0m     \u001b[38;5;28;01mif\u001b[39;00m use_interval_msg:\n\u001b[0;32m   6129\u001b[0m         key \u001b[38;5;241m=\u001b[39m \u001b[38;5;28mlist\u001b[39m(key)\n\u001b[1;32m-> 6130\u001b[0m     \u001b[38;5;28;01mraise\u001b[39;00m \u001b[38;5;167;01mKeyError\u001b[39;00m(\u001b[38;5;124mf\u001b[39m\u001b[38;5;124m\"\u001b[39m\u001b[38;5;124mNone of [\u001b[39m\u001b[38;5;132;01m{\u001b[39;00mkey\u001b[38;5;132;01m}\u001b[39;00m\u001b[38;5;124m] are in the [\u001b[39m\u001b[38;5;132;01m{\u001b[39;00maxis_name\u001b[38;5;132;01m}\u001b[39;00m\u001b[38;5;124m]\u001b[39m\u001b[38;5;124m\"\u001b[39m)\n\u001b[0;32m   6132\u001b[0m not_found \u001b[38;5;241m=\u001b[39m \u001b[38;5;28mlist\u001b[39m(ensure_index(key)[missing_mask\u001b[38;5;241m.\u001b[39mnonzero()[\u001b[38;5;241m0\u001b[39m]]\u001b[38;5;241m.\u001b[39munique())\n\u001b[0;32m   6133\u001b[0m \u001b[38;5;28;01mraise\u001b[39;00m \u001b[38;5;167;01mKeyError\u001b[39;00m(\u001b[38;5;124mf\u001b[39m\u001b[38;5;124m\"\u001b[39m\u001b[38;5;132;01m{\u001b[39;00mnot_found\u001b[38;5;132;01m}\u001b[39;00m\u001b[38;5;124m not in index\u001b[39m\u001b[38;5;124m\"\u001b[39m)\n",
      "\u001b[1;31mKeyError\u001b[0m: \"None of [Index(['G3', 'absences'], dtype='object')] are in the [columns]\""
     ]
    }
   ],
   "source": [
    "import pandas as pd\n",
    "\n",
    "# Load the dataset\n",
    "data = pd.read_csv('student-mat.csv', delimiter=';')\n",
    "\n",
    "# Print column names\n",
    "print(data.columns)\n",
    "\n",
    "# Select relevant columns\n",
    "selected_data = data[['G3', 'absences']]\n",
    "\n",
    "# Specify grade and absences values for conditional probability calculation\n",
    "grade_value = 10  # Change this to the desired grade value\n",
    "absences_value = 5  # Change this to the desired number of absences\n",
    "\n",
    "# Calculate conditional probability without explicit loop\n",
    "total_students = len(selected_data)\n",
    "selected_students_count = selected_data[(selected_data['G3'] == grade_value) & (selected_data['absences'] == absences_value)].shape[0]\n",
    "\n",
    "# Avoid division by zero\n",
    "probability = selected_students_count / total_students if total_students > 0 else 0\n",
    "\n",
    "print(f'P(G3={grade_value} | Absences={absences_value}) = {probability:.4f}')\n",
    "\n"
   ]
  },
  {
   "cell_type": "code",
   "execution_count": 6,
   "id": "98a97e15",
   "metadata": {},
   "outputs": [
    {
     "name": "stdout",
     "output_type": "stream",
     "text": [
      "    school,sex,age,address,famsize,Pstatus,Medu,Fedu,Mjob,Fjob,reason,guardian,traveltime,studytime,failures,schoolsup,famsup,paid,activities,nursery,higher,internet,romantic,famrel,freetime,goout,Dalc,Walc,health,absences,G1,G2,G3\n",
      "0    GP,F,18,U,GT3,A,4,4,at_home,teacher,course,mot...                                                                                                                                                                                 \n",
      "1    GP,F,17,U,GT3,T,1,1,at_home,other,course,fathe...                                                                                                                                                                                 \n",
      "2    GP,F,15,U,LE3,T,1,1,at_home,other,other,mother...                                                                                                                                                                                 \n",
      "3    GP,F,15,U,GT3,T,4,2,health,services,home,mothe...                                                                                                                                                                                 \n",
      "4    GP,F,16,U,GT3,T,3,3,other,other,home,father,1,...                                                                                                                                                                                 \n",
      "..                                                 ...                                                                                                                                                                                 \n",
      "390  MS,M,20,U,LE3,A,2,2,services,services,course,o...                                                                                                                                                                                 \n",
      "391  MS,M,17,U,LE3,T,3,1,services,services,course,m...                                                                                                                                                                                 \n",
      "392  MS,M,21,R,GT3,T,1,1,other,other,course,other,1...                                                                                                                                                                                 \n",
      "393  MS,M,18,R,LE3,T,3,2,services,other,course,moth...                                                                                                                                                                                 \n",
      "394  MS,M,19,U,LE3,T,1,1,other,at_home,course,fathe...                                                                                                                                                                                 \n",
      "\n",
      "[395 rows x 1 columns]\n"
     ]
    }
   ],
   "source": [
    "import pandas as pd\n",
    "\n",
    "# Load the dataset\n",
    "data = pd.read_csv('student-mat.csv', delimiter=';')\n",
    "print(data)"
   ]
  },
  {
   "cell_type": "code",
   "execution_count": null,
   "id": "7c7ef9a9",
   "metadata": {},
   "outputs": [],
   "source": []
  }
 ],
 "metadata": {
  "kernelspec": {
   "display_name": "Python 3 (ipykernel)",
   "language": "python",
   "name": "python3"
  },
  "language_info": {
   "codemirror_mode": {
    "name": "ipython",
    "version": 3
   },
   "file_extension": ".py",
   "mimetype": "text/x-python",
   "name": "python",
   "nbconvert_exporter": "python",
   "pygments_lexer": "ipython3",
   "version": "3.11.3"
  }
 },
 "nbformat": 4,
 "nbformat_minor": 5
}
